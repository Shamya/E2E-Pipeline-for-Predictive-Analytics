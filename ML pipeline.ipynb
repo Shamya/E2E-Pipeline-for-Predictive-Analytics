{
 "cells": [
  {
   "cell_type": "markdown",
   "metadata": {},
   "source": [
    "# E2E Pipeline for Predictive Analytics"
   ]
  },
  {
   "cell_type": "markdown",
   "metadata": {},
   "source": [
    "This worksheet illustrates an end to end pipeline used for solving general machine learning tasks. It includes (but is not restricted to) various techniques in the following key stages: \n",
    "- Data preparation\n",
    "- Understanding the data\n",
    "- Data preprocessing\n",
    "- Model training\n",
    "- Testing model generalizability\n",
    "- Post pipeline reflection\n",
    "\n",
    "For illustration purpose, I have chosen \"classification\" as the task and have attached a sample data (data.csv) to run the code. But the intention is to introduce you to these stages and provide you with starter code to extend it to your problem statement. Feel free to contact me at shamya16[at]gmail[dot]com for feedback, comments and clarification."
   ]
  },
  {
   "cell_type": "markdown",
   "metadata": {},
   "source": [
    "## Import Data\n",
    "\n",
    "Format - First column contains class labels and subsequent columns are features\n",
    "\n",
    "Sample data attached - *data.csv* <br>\n",
    "Number of samples (N) - 312 <br>\n",
    "Number of features (D) - 4 <br>"
   ]
  },
  {
   "cell_type": "code",
   "execution_count": 1,
   "metadata": {
    "collapsed": false
   },
   "outputs": [
    {
     "name": "stdout",
     "output_type": "stream",
     "text": [
      "Data Dimension = 312 X 4\n"
     ]
    }
   ],
   "source": [
    "import csv\n",
    "import numpy as np\n",
    "from __future__ import division\n",
    "\n",
    "#for replication\n",
    "np.random.seed(0)\n",
    "\n",
    "reader = csv.reader(open('data.csv', 'rb'), delimiter=',')\n",
    "data= list(reader)\n",
    "data= np.array(data).astype('float')\n",
    "\n",
    "N = data.shape[0] #num of data items\n",
    "D = data.shape[1] -1 #num of dimensions\n",
    "print \"Data Dimension =\", N,'X',D\n",
    "\n",
    "features = ['x1', 'x2', 'x3', 'x4']\n",
    "np.random.shuffle(data) #helps avoid linearity in data colletion"
   ]
  },
  {
   "cell_type": "markdown",
   "metadata": {},
   "source": [
    "**Split data for Train and Test (held out)**"
   ]
  },
  {
   "cell_type": "code",
   "execution_count": 55,
   "metadata": {
    "collapsed": false
   },
   "outputs": [
    {
     "name": "stdout",
     "output_type": "stream",
     "text": [
      "splitting data at 250\n",
      "Full data Dimension (312, 4) (312,)\n",
      "Train data Dimension (250, 4) (250,)\n",
      "Test data Dimension (62, 4) (62,)\n"
     ]
    }
   ],
   "source": [
    "X = data[:,1:] #extract features\n",
    "Y = data[:,0] #extract labels\n",
    "split = int(np.ceil(0.8*N)) # 80-20 split\n",
    "print \"splitting data at\", split \n",
    "X_train = data[0:split,1:] \n",
    "Y_train = data[0:split, 0]\n",
    "\n",
    "X_test = data[split:,1:]\n",
    "Y_test = data[split:, 0]\n",
    "\n",
    "print \"Full data Dimension\", X.shape, Y.shape\n",
    "print \"Train data Dimension\", X_train.shape, Y_train.shape\n",
    "print \"Test data Dimension\", X_test.shape, Y_test.shape"
   ]
  },
  {
   "cell_type": "markdown",
   "metadata": {},
   "source": [
    "## Understanding the Data"
   ]
  },
  {
   "cell_type": "markdown",
   "metadata": {},
   "source": [
    "**Covariance between features**"
   ]
  },
  {
   "cell_type": "code",
   "execution_count": 3,
   "metadata": {
    "collapsed": false
   },
   "outputs": [
    {
     "name": "stdout",
     "output_type": "stream",
     "text": [
      "[[ 0.24990754  0.00958457]\n",
      " [ 0.00958457  0.24998973]]\n"
     ]
    }
   ],
   "source": [
    "Xc = X[:,1:3]\n",
    "Xc -= np.mean(Xc, axis=0)\n",
    "cov = np.dot(Xc.T,Xc)/Xc.shape[0]\n",
    "print cov"
   ]
  },
  {
   "cell_type": "markdown",
   "metadata": {},
   "source": [
    "**Visualize Data**"
   ]
  },
  {
   "cell_type": "code",
   "execution_count": 4,
   "metadata": {
    "collapsed": true
   },
   "outputs": [],
   "source": [
    "#plotting packages\n",
    "import matplotlib.pyplot as plt\n",
    "import matplotlib.image as mpimg\n",
    "from mpl_toolkits.mplot3d import Axes3D\n",
    "from matplotlib.colors import ListedColormap\n",
    "import pydot\n",
    "%matplotlib inline"
   ]
  },
  {
   "cell_type": "markdown",
   "metadata": {},
   "source": [
    "Dimensionality reduction for visualization<br> \n",
    "In case of big feature space you may have to choose subset of features for better understanding <br>\n",
    "Domain knowledge helps to break down the full feature space to that of interest <br>\n",
    "You can also visualize pairs of features"
   ]
  },
  {
   "cell_type": "code",
   "execution_count": 8,
   "metadata": {
    "collapsed": false
   },
   "outputs": [
    {
     "data": {
      "image/png": "[encoded data removed]",
      "text/plain": [
       "<matplotlib.figure.Figure at 0x11220e650>"
      ]
     },
     "metadata": {},
     "output_type": "display_data"
    }
   ],
   "source": [
    "#dim reduction to 2 for visualization - higher dimension plot may help\n",
    "from sklearn.decomposition import PCA\n",
    "\n",
    "pca = PCA(n_components=2)\n",
    "pca.fit(X) \n",
    "X_pca = pca.transform(X) \n",
    "\n",
    "######## OR #########\n",
    "#x = data[:,[1,2]] # visualize pairs of dimension\n",
    "\n",
    "#optional normalization\n",
    "X_pca = X_pca-np.mean(X_pca,axis=0);\n",
    "X_pca=X_pca/np.std(X_pca,axis=0);\n",
    "\n",
    "labels=['sr','og'] #binary label in Y\n",
    "for i in [0,1]:\n",
    "  plt.plot(X_pca[Y==i,0],X_pca[Y==i,1],labels[i-1]);\n",
    "plt.xlabel('dim #1');\n",
    "plt.ylabel('dim #2');"
   ]
  },
  {
   "cell_type": "markdown",
   "metadata": {},
   "source": [
    "**Test for skewness in class labels**"
   ]
  },
  {
   "cell_type": "code",
   "execution_count": 14,
   "metadata": {
    "collapsed": false
   },
   "outputs": [
    {
     "name": "stdout",
     "output_type": "stream",
     "text": [
      "Number of samples with label 1 93.0\n",
      "Total sample size 312\n",
      "Class Distribution of [label0, label1] = [ 0.701923076923 0.298076923077 ]\n"
     ]
    }
   ],
   "source": [
    "label1 = np.sum(Y_train)\n",
    "print \"Number of samples with label 1\", label1\n",
    "print \"Total sample size\", N\n",
    "print \"Class Distribution of [label0, label1] = [\", 1-(label1/N), label1/N, \"]\""
   ]
  },
  {
   "cell_type": "markdown",
   "metadata": {},
   "source": [
    "## Data Preprocessing"
   ]
  },
  {
   "cell_type": "markdown",
   "metadata": {},
   "source": [
    "Note - We are using only training data from now on <br>\n",
    "This section should be revisited after getting insights from model training "
   ]
  },
  {
   "cell_type": "markdown",
   "metadata": {},
   "source": [
    "**Mean Normalize** <br>"
   ]
  },
  {
   "cell_type": "code",
   "execution_count": 15,
   "metadata": {
    "collapsed": true
   },
   "outputs": [],
   "source": [
    "X_train = X_train-np.mean(X_train,axis=0)\n",
    "X_train=X_train/np.std(X_train,axis=0)"
   ]
  },
  {
   "cell_type": "code",
   "execution_count": 16,
   "metadata": {
    "collapsed": true
   },
   "outputs": [],
   "source": [
    "#option 2 - standard scaler\n",
    "from sklearn.preprocessing import StandardScaler\n",
    "sk = StandardScaler()\n",
    "X_train = sk.fit_transform(X_train)"
   ]
  },
  {
   "cell_type": "markdown",
   "metadata": {},
   "source": [
    "**Dinemsionality Reduction** <br>\n",
    "Similar to the previous use of PCA to visualize data, here we are using the same technique to improve prediction accuracy by reducing the feature space dimension"
   ]
  },
  {
   "cell_type": "code",
   "execution_count": 18,
   "metadata": {
    "collapsed": false
   },
   "outputs": [],
   "source": [
    "from sklearn.decomposition import PCA\n",
    "components = 3 #set based on your data - can be a hyperparamter to tune in the pipeline\n",
    "pca = PCA(n_components=components)\n",
    "pca.fit(X_train)\n",
    "X_train = pca.transform(X_train)"
   ]
  },
  {
   "cell_type": "markdown",
   "metadata": {},
   "source": [
    "**Feature Selection**<br>\n",
    "Another technique to deal with high dimensional feature space"
   ]
  },
  {
   "cell_type": "code",
   "execution_count": 28,
   "metadata": {
    "collapsed": false
   },
   "outputs": [
    {
     "name": "stdout",
     "output_type": "stream",
     "text": [
      "Dimension of data after feature selection = (250, 3)\n",
      "selected features boolean = [ True  True  True False]\n",
      "feature ranking = [1 1 1 2]\n",
      "Feature ranking by name -\n",
      "x1 1\n",
      "x2 1\n",
      "x3 1\n",
      "x4 2\n"
     ]
    }
   ],
   "source": [
    "#There are multiple options for these - just an example below\n",
    "from sklearn import linear_model\n",
    "from sklearn.feature_selection import RFE\n",
    "\n",
    "lr = linear_model.LogisticRegression(C=0.2)\n",
    "rfe = RFE(lr, 3)\n",
    "rfe = rfe.fit(X_train, Y_train)\n",
    "X_train_feat = rfe.transform(X_train)\n",
    "\n",
    "print \"Dimension of data after feature selection =\", X_train_feat.shape\n",
    "# summarize the selection of features\n",
    "print \"selected features boolean =\", rfe.support_\n",
    "print \"feature ranking =\", rfe.ranking_\n",
    "\n",
    "print \"Feature ranking by name -\"\n",
    "for i in range(len(features)):\n",
    "    print features[i], rfe.ranking_[i]"
   ]
  },
  {
   "cell_type": "markdown",
   "metadata": {},
   "source": [
    "**Polynomial Features**<br>\n",
    "Improves model capacity when there is accuracy gap <br>"
   ]
  },
  {
   "cell_type": "code",
   "execution_count": 56,
   "metadata": {
    "collapsed": false
   },
   "outputs": [
    {
     "name": "stdout",
     "output_type": "stream",
     "text": [
      "New dimension with polynomial features = (250, 11) (62, 11)\n"
     ]
    }
   ],
   "source": [
    "from sklearn.preprocessing import PolynomialFeatures\n",
    "\n",
    "poly = PolynomialFeatures(2, interaction_only = True) #degree 2 and intereaction only\n",
    "poly.fit(X_train)\n",
    "X_train = poly.transform(X_train)\n",
    "X_test = poly.transform(X_test)\n",
    "print \"New dimension with polynomial features =\", X_train.shape, X_test.shape"
   ]
  },
  {
   "cell_type": "markdown",
   "metadata": {},
   "source": [
    "## Model Training"
   ]
  },
  {
   "cell_type": "markdown",
   "metadata": {},
   "source": [
    "**Decision Trees**<br>\n",
    "with 5 fold cross validation<br>\n",
    "no hyperparameter selection"
   ]
  },
  {
   "cell_type": "code",
   "execution_count": 33,
   "metadata": {
    "collapsed": false
   },
   "outputs": [
    {
     "name": "stdout",
     "output_type": "stream",
     "text": [
      "CV accuracy = 0.628675470188\n",
      "Feature Importance = [ 0.13042306  0.10467022  0.12969558  0.63521115]\n"
     ]
    }
   ],
   "source": [
    "from sklearn.tree import DecisionTreeClassifier\n",
    "from sklearn.model_selection import cross_val_score\n",
    "\n",
    "dt = DecisionTreeClassifier(random_state=0) #set depth\n",
    "dt.fit(X_train, Y_train)\n",
    "print \"CV accuracy =\", np.mean(cross_val_score(dt, X_train, Y_train, cv=5))\n",
    "print \"Feature Importance =\", dt.feature_importances_"
   ]
  },
  {
   "cell_type": "markdown",
   "metadata": {},
   "source": [
    "Feature selection for tree based model is different. Example below."
   ]
  },
  {
   "cell_type": "code",
   "execution_count": null,
   "metadata": {
    "collapsed": false
   },
   "outputs": [],
   "source": [
    "from sklearn.ensemble import ExtraTreesClassifier\n",
    "\n",
    "# fit an Extra Trees model to the data\n",
    "model = ExtraTreesClassifier()\n",
    "model.fit(X_train, Y_train)\n",
    "X_train_feat = model.transform(X_train)\n",
    "\n",
    "# display the relative importance of each attribute\n",
    "for i in range(len(features)):\n",
    "    print features[i], model.feature_importances_[i]"
   ]
  },
  {
   "cell_type": "markdown",
   "metadata": {},
   "source": [
    "**Random Forest**<br>\n",
    "With hyperparamatere selection"
   ]
  },
  {
   "cell_type": "code",
   "execution_count": 40,
   "metadata": {
    "collapsed": false
   },
   "outputs": [
    {
     "name": "stdout",
     "output_type": "stream",
     "text": [
      "n_est = 1 CV acc = 0.608829131653\n",
      "n_est = 2 CV acc = 0.633315726291\n",
      "n_est = 3 CV acc = 0.636757102841\n"
     ]
    }
   ],
   "source": [
    "from sklearn.ensemble import RandomForestClassifier\n",
    "from sklearn.model_selection import cross_val_score\n",
    "\n",
    "est_list = [(a+1) for a in range(5)] #hyperparamter range\n",
    "best_val_acc = 0\n",
    "best_est = None\n",
    "best_rf = None\n",
    "\n",
    "for est in est_list:\n",
    "    rf = RandomForestClassifier(random_state=0, n_estimators=est)\n",
    "    val_acc = np.mean(cross_val_score(rf, X_train, Y_train, cv=5))\n",
    "    if val_acc > best_val_acc:\n",
    "        best_rf = rf\n",
    "        best_val_acc = val_acc\n",
    "        best_est = est\n",
    "                          \n",
    "        print \"n_est =\", best_est, \"CV acc =\", best_val_acc"
   ]
  },
  {
   "cell_type": "markdown",
   "metadata": {},
   "source": [
    "**Logistic Regression**<br>\n",
    "With hyperparamatere selection and feature selection with polynomial features"
   ]
  },
  {
   "cell_type": "code",
   "execution_count": 42,
   "metadata": {
    "collapsed": false
   },
   "outputs": [
    {
     "name": "stdout",
     "output_type": "stream",
     "text": [
      "C = 0.1 num_feat 1 CV acc = 0.628041616647\n",
      "C = 0.1 num_feat 6 CV acc = 0.640600240096\n"
     ]
    }
   ],
   "source": [
    "from sklearn.linear_model import LogisticRegression\n",
    "from sklearn.feature_selection import RFE\n",
    "from sklearn.model_selection import cross_val_score\n",
    "\n",
    "C_list = [(a+1)*0.1 for a in range(10)] #hyperparameter\n",
    "num_feat_list = [(a+1) for a in range(22)] #feature selection parameter\n",
    "best_val_acc = 0\n",
    "best_num_feat = None\n",
    "best_C = None\n",
    "best_lr = None\n",
    "\n",
    "for C in C_list:\n",
    "    lr = LogisticRegression(C=C)\n",
    "    for num_feat in num_feat_list:\n",
    "        rfe = RFE(lr, num_feat)\n",
    "        rfe = rfe.fit(X_train, Y_train)\n",
    "        X_train_feat = X_train[:,rfe.support_]\n",
    "        val_acc = np.mean(cross_val_score(lr, X_train_feat, Y_train, cv=5))\n",
    "        if val_acc > best_val_acc:\n",
    "            best_lr = lr\n",
    "            best_num_feat = num_feat\n",
    "            best_val_acc = val_acc\n",
    "            best_C = C\n",
    "                          \n",
    "            print \"C =\", best_C, \"num_feat\", best_num_feat, \"CV acc =\", best_val_acc"
   ]
  },
  {
   "cell_type": "markdown",
   "metadata": {},
   "source": [
    "**Support Vector Machine (SVM)** <br>\n",
    "With hyperparamatere selection and feature selection with polynomial features"
   ]
  },
  {
   "cell_type": "code",
   "execution_count": 58,
   "metadata": {
    "collapsed": false
   },
   "outputs": [
    {
     "name": "stdout",
     "output_type": "stream",
     "text": [
      "gamma = 0.03 num_feat 1 CV acc = 0.628041616647\n",
      "gamma = 0.51 num_feat 10 CV acc = 0.628675470188\n",
      "gamma = 0.54 num_feat 10 CV acc = 0.636518607443\n",
      "gamma = 0.57 num_feat 10 CV acc = 0.64044017607\n",
      "gamma = 0.69 num_feat 10 CV acc = 0.644521808723\n",
      "gamma = 0.78 num_feat 10 CV acc = 0.656443377351\n"
     ]
    }
   ],
   "source": [
    "from sklearn.svm import SVC\n",
    "from sklearn.linear_model import LogisticRegression\n",
    "from sklearn.model_selection import cross_val_score\n",
    "from sklearn.feature_selection import RFE\n",
    "\n",
    "gamma_list = [(a+1)*0.03 for a in range(40)] #hyperparameter\n",
    "num_feat_list = [(a+1) for a in range(22)] #feature selection parameter\n",
    "best_val_acc = 0\n",
    "best_num_feat = None\n",
    "best_gamma = None\n",
    "best_svc = None\n",
    "lr = LogisticRegression(C=0.5)\n",
    "\n",
    "for gamma in gamma_list:\n",
    "    svc = SVC(gamma=gamma)\n",
    "    for num_feat in num_feat_list:\n",
    "        rfe = RFE(lr, num_feat)\n",
    "        rfe = rfe.fit(X_train, Y_train)\n",
    "        X_train_feat = X_train[:,rfe.support_]\n",
    "        val_acc = np.mean(cross_val_score(svc, X_train_feat, Y_train, cv=5))\n",
    "        if val_acc > best_val_acc:\n",
    "            best_svc = svc\n",
    "            best_num_feat = num_feat\n",
    "            best_val_acc = val_acc\n",
    "            best_gamma = gamma\n",
    "                          \n",
    "            print \"gamma =\", best_gamma, \"num_feat\", best_num_feat, \"CV acc =\", best_val_acc"
   ]
  },
  {
   "cell_type": "markdown",
   "metadata": {},
   "source": [
    "## Testing Model Generalizability"
   ]
  },
  {
   "cell_type": "markdown",
   "metadata": {},
   "source": [
    "Example test for SVM"
   ]
  },
  {
   "cell_type": "code",
   "execution_count": 62,
   "metadata": {
    "collapsed": false
   },
   "outputs": [
    {
     "name": "stdout",
     "output_type": "stream",
     "text": [
      "Test accuracy = 0.612903225806\n"
     ]
    }
   ],
   "source": [
    "lr = LogisticRegression(C=0.5)\n",
    "rfe = RFE(lr, 3) #example best feature\n",
    "rfe = rfe.fit(X_train, Y_train)\n",
    "X_train_feat = X_train[:,rfe.support_]\n",
    "svc = SVC(gamma=0.78) #best hyperparameter chosen from model selection\n",
    "svc.fit(X_train_feat, Y_train)\n",
    "X_test_feat = X_test[:,rfe.support_]\n",
    "Y_pred = svc.predict(X_test_feat)\n",
    "print \"SVM Test accuracy =\", np.mean(Y_pred == Y_test)"
   ]
  },
  {
   "cell_type": "markdown",
   "metadata": {},
   "source": [
    "Example test for LR"
   ]
  },
  {
   "cell_type": "code",
   "execution_count": 68,
   "metadata": {
    "collapsed": false
   },
   "outputs": [
    {
     "name": "stdout",
     "output_type": "stream",
     "text": [
      "LR Test accuracy = 0.516129032258\n"
     ]
    }
   ],
   "source": [
    "lr = LogisticRegression(C=0.1) #best hyperparameter chosen from model selection\n",
    "rfe = RFE(lr, 17) #example best feature\n",
    "rfe = rfe.fit(X_train, Y_train)\n",
    "X_train_feat = X_train[:,rfe.support_]\n",
    "lr.fit(X_train, Y_train)\n",
    "Y_pred = lr.predict(X_test)\n",
    "print \"LR Test accuracy =\", np.mean(Y_pred == Y_test)"
   ]
  },
  {
   "cell_type": "markdown",
   "metadata": {},
   "source": [
    "**Testing other metrics** <br>\n",
    "There should be a library in scikit for this :) Naive implementation below"
   ]
  },
  {
   "cell_type": "code",
   "execution_count": 71,
   "metadata": {
    "collapsed": false
   },
   "outputs": [
    {
     "name": "stdout",
     "output_type": "stream",
     "text": [
      "precision= 0.375\n",
      "recall= 0.111111111111\n"
     ]
    }
   ],
   "source": [
    "POS_LABEL = 1\n",
    "NEG_LABEL = 0\n",
    "scores = {'tp':0,'tn':0,'fp':0,'fn':0}\n",
    "for i,p in enumerate(Y_pred):\n",
    "    if Y_train[i] == POS_LABEL:\n",
    "        if p == POS_LABEL:\n",
    "            scores['tp'] += 1\n",
    "        else:\n",
    "            scores['fn'] += 1\n",
    "    else:\n",
    "        if p == POS_LABEL:\n",
    "            scores['fp'] += 1\n",
    "        else:\n",
    "            scores['tn'] += 1\n",
    "                        \n",
    "precision = scores['tp'] / (scores['tp'] + scores['fp'])\n",
    "recall = scores['tp'] / (scores['tp'] + scores['fn'])\n",
    "print \"precision=\", precision\n",
    "print \"recall=\", recall"
   ]
  },
  {
   "cell_type": "markdown",
   "metadata": {},
   "source": [
    "## Post Pipeline Reflections\n",
    "To help inform next steps"
   ]
  },
  {
   "cell_type": "markdown",
   "metadata": {},
   "source": [
    "Question 1 - **Will accuracy improve with more training data ?**<br>\n",
    "helper code borrowed from scikit"
   ]
  },
  {
   "cell_type": "code",
   "execution_count": 72,
   "metadata": {
    "collapsed": false
   },
   "outputs": [],
   "source": [
    "from sklearn.linear_model import LogisticRegression\n",
    "from sklearn.naive_bayes import GaussianNB\n",
    "from sklearn.svm import SVC\n",
    "from sklearn.model_selection import learning_curve\n",
    "from sklearn.model_selection import ShuffleSplit\n",
    "from sklearn.model_selection import StratifiedShuffleSplit\n",
    "\n",
    "def plot_learning_curve(estimator, title, X, y, ylim=None, cv=None,\n",
    "                        n_jobs=1, train_sizes=np.linspace(.1, 1.0, 5)):\n",
    "    \"\"\"\n",
    "    Generate a simple plot of the test and training learning curve.\n",
    "\n",
    "    Parameters\n",
    "    ----------\n",
    "    estimator : object type that implements the \"fit\" and \"predict\" methods\n",
    "        An object of that type which is cloned for each validation.\n",
    "\n",
    "    title : string\n",
    "        Title for the chart.\n",
    "\n",
    "    X : array-like, shape (n_samples, n_features)\n",
    "        Training vector, where n_samples is the number of samples and\n",
    "        n_features is the number of features.\n",
    "\n",
    "    y : array-like, shape (n_samples) or (n_samples, n_features), optional\n",
    "        Target relative to X for classification or regression;\n",
    "        None for unsupervised learning.\n",
    "\n",
    "    ylim : tuple, shape (ymin, ymax), optional\n",
    "        Defines minimum and maximum yvalues plotted.\n",
    "\n",
    "    cv : int, cross-validation generator or an iterable, optional\n",
    "        Determines the cross-validation splitting strategy.\n",
    "        Possible inputs for cv are:\n",
    "          - None, to use the default 3-fold cross-validation,\n",
    "          - integer, to specify the number of folds.\n",
    "          - An object to be used as a cross-validation generator.\n",
    "          - An iterable yielding train/test splits.\n",
    "\n",
    "        For integer/None inputs, if ``y`` is binary or multiclass,\n",
    "        :class:`StratifiedKFold` used. If the estimator is not a classifier\n",
    "        or if ``y`` is neither binary nor multiclass, :class:`KFold` is used.\n",
    "\n",
    "        Refer :ref:`User Guide <cross_validation>` for the various\n",
    "        cross-validators that can be used here.\n",
    "\n",
    "    n_jobs : integer, optional\n",
    "        Number of jobs to run in parallel (default 1).\n",
    "    \"\"\"\n",
    "    plt.figure()\n",
    "    plt.title(title)\n",
    "    if ylim is not None:\n",
    "        plt.ylim(*ylim)\n",
    "    plt.xlabel(\"Training examples\")\n",
    "    plt.ylabel(\"Score\")\n",
    "    train_sizes, train_scores, test_scores = learning_curve(\n",
    "        estimator, X, y, cv=cv, n_jobs=n_jobs, train_sizes=train_sizes)\n",
    "    train_scores_mean = np.mean(train_scores, axis=1)\n",
    "    train_scores_std = np.std(train_scores, axis=1)\n",
    "    test_scores_mean = np.mean(test_scores, axis=1)\n",
    "    test_scores_std = np.std(test_scores, axis=1)\n",
    "    plt.grid()\n",
    "\n",
    "    plt.fill_between(train_sizes, train_scores_mean - train_scores_std,\n",
    "                     train_scores_mean + train_scores_std, alpha=0.1,\n",
    "                     color=\"r\")\n",
    "    plt.fill_between(train_sizes, test_scores_mean - test_scores_std,\n",
    "                     test_scores_mean + test_scores_std, alpha=0.1, color=\"g\")\n",
    "    plt.plot(train_sizes, train_scores_mean, 'o-', color=\"r\",\n",
    "             label=\"Training score\")\n",
    "    plt.plot(train_sizes, test_scores_mean, 'o-', color=\"g\",\n",
    "             label=\"Cross-validation score\")\n",
    "\n",
    "    plt.legend(loc=\"best\")\n",
    "    return plt\n"
   ]
  },
  {
   "cell_type": "code",
   "execution_count": 73,
   "metadata": {
    "collapsed": false
   },
   "outputs": [
    {
     "data": {
      "image/png": "[encoded data removed]",
      "text/plain": [
       "<matplotlib.figure.Figure at 0x1126b4ad0>"
      ]
     },
     "metadata": {},
     "output_type": "display_data"
    },
    {
     "data": {
      "image/png": "[encoded data removed]",
      "text/plain": [
       "<matplotlib.figure.Figure at 0x1126b4090>"
      ]
     },
     "metadata": {},
     "output_type": "display_data"
    },
    {
     "data": {
      "image/png": "[encoded data removed]",
      "text/plain": [
       "<matplotlib.figure.Figure at 0x1121be3d0>"
      ]
     },
     "metadata": {},
     "output_type": "display_data"
    },
    {
     "data": {
      "image/png": "[encoded data removed]",
      "text/plain": [
       "<matplotlib.figure.Figure at 0x10f034f50>"
      ]
     },
     "metadata": {},
     "output_type": "display_data"
    }
   ],
   "source": [
    "title = \"Learning Curves (Decision Tree)\"\n",
    "# Cross validation with 100 iterations to get smoother mean test and train\n",
    "# score curves, each time with 20% data randomly selected as a validation set.\n",
    "cv = ShuffleSplit(n_splits=100, test_size=0.10, random_state=0)\n",
    "\n",
    "estimator = DecisionTreeClassifier(max_depth=3)\n",
    "plot_learning_curve(estimator, title, X, Y, ylim=(0.4, 1.01), cv=cv, n_jobs=4)\n",
    "\n",
    "title = \"Learning Curves (Logistic Regression, C=0.2)\"\n",
    "# Cross validation with 100 iterations to get smoother mean test and train\n",
    "# score curves, each time with 20% data randomly selected as a validation set.\n",
    "cv = StratifiedShuffleSplit(n_splits=100, test_size=0.10, random_state=0)\n",
    "\n",
    "estimator = LogisticRegression(C=0.2)\n",
    "plot_learning_curve(estimator, title, X, Y, ylim=(0.4, 1.01), cv=cv, n_jobs=4)\n",
    "\n",
    "\n",
    "title = \"Learning Curves (Naive Bayes)\"\n",
    "# Cross validation with 100 iterations to get smoother mean test and train\n",
    "# score curves, each time with 20% data randomly selected as a validation set.\n",
    "cv = ShuffleSplit(n_splits=100, test_size=0.10, random_state=0)\n",
    "\n",
    "estimator = GaussianNB()\n",
    "plot_learning_curve(estimator, title, X, Y, ylim=(0.4, 1.01), cv=cv, n_jobs=4)\n",
    "\n",
    "title = \"Learning Curves (SVM, RBF kernel, $\\gamma=0.01$)\"\n",
    "# SVC is more expensive so we do a lower number of CV iterations:\n",
    "cv = ShuffleSplit(n_splits=100, test_size=0.10, random_state=0)\n",
    "estimator = SVC(gamma=0.01)\n",
    "plot_learning_curve(estimator, title, X, Y, (0.4, 1.01), cv=cv, n_jobs=4)\n",
    "\n",
    "plt.show()"
   ]
  }
 ],
 "metadata": {
  "kernelspec": {
   "display_name": "Python 2",
   "language": "python",
   "name": "python2"
  },
  "language_info": {
   "codemirror_mode": {
    "name": "ipython",
    "version": 2
   },
   "file_extension": ".py",
   "mimetype": "text/x-python",
   "name": "python",
   "nbconvert_exporter": "python",
   "pygments_lexer": "ipython2",
   "version": "2.7.12"
  }
 },
 "nbformat": 4,
 "nbformat_minor": 0
}
